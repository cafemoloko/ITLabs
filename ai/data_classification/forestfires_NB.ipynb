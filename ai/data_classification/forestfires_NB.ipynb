{
 "metadata": {
  "language_info": {
   "codemirror_mode": {
    "name": "ipython",
    "version": 3
   },
   "file_extension": ".py",
   "mimetype": "text/x-python",
   "name": "python",
   "nbconvert_exporter": "python",
   "pygments_lexer": "ipython3",
   "version": "3.7.0-final"
  },
  "orig_nbformat": 2,
  "kernelspec": {
   "name": "python3",
   "display_name": "Python 3",
   "language": "python"
  }
 },
 "nbformat": 4,
 "nbformat_minor": 2,
 "cells": [
  {
   "source": [
    "## Forest fires in the northeast region of Portugal\n",
    "Data set: https://archive.ics.uci.edu/ml/datasets/forest+fires\n",
    "\n",
    "Zadaniem jest klasyfikacja względem określonych danych np. temperatury lub np. obszaru.\n",
    "\n",
    "Ściągnąć dane<br>\n",
    "Wczytać dane<br>\n",
    "Przeskalować dane, również wymienić dane miesiące i dni tygodnia na dane liczbowe<br>\n",
    "Podzielić dane na dane testujące i trenujące<br>\n",
    "Wybrać omawiane modele<br>\n",
    "Wytrenować modele<br>\n",
    "Porównać modele"
   ],
   "cell_type": "markdown",
   "metadata": {}
  },
  {
   "cell_type": "code",
   "execution_count": 1,
   "metadata": {},
   "outputs": [],
   "source": [
    "import matplotlib as plt\n",
    "import numpy as np \n",
    "import pandas as pd "
   ]
  },
  {
   "source": [
    "## Reading the data\n",
    "1. X - x-axis spatial coordinate within the Montesinho park map: 1 to 9<br>\n",
    "2. Y - y-axis spatial coordinate within the Montesinho park map: 2 to 9<br>\n",
    "3. month - month of the year: 'jan' to 'dec'<br>\n",
    "4. day - day of the week: 'mon' to 'sun'<br>\n",
    "5. FFMC - FFMC index from the FWI system: 18.7 to 96.20<br>\n",
    "6. DMC - DMC index from the FWI system: 1.1 to 291.3<br>\n",
    "7. DC - DC index from the FWI system: 7.9 to 860.6<br>\n",
    "8. ISI - ISI index from the FWI system: 0.0 to 56.10<br>\n",
    "9. temp - temperature in Celsius degrees: 2.2 to 33.30<br>\n",
    "10. RH - relative humidity in %: 15.0 to 100<br>\n",
    "11. wind - wind speed in km/h: 0.40 to 9.40<br>\n",
    "12. rain - outside rain in mm/m2 : 0.0 to 6.4<br>\n",
    "13. area - the burned area of the forest (in ha): 0.00 to 1090.84<br>"
   ],
   "cell_type": "markdown",
   "metadata": {}
  },
  {
   "cell_type": "code",
   "execution_count": 2,
   "metadata": {},
   "outputs": [
    {
     "output_type": "execute_result",
     "data": {
      "text/plain": [
       "   x-axis  y-axis month  day  FFMC   DMC     DC  ISI  temp  humidity  wind  \\\n",
       "0       7       5   mar  fri  86.2  26.2   94.3  5.1   8.2        51   6.7   \n",
       "1       7       4   oct  tue  90.6  35.4  669.1  6.7  18.0        33   0.9   \n",
       "2       7       4   oct  sat  90.6  43.7  686.9  6.7  14.6        33   1.3   \n",
       "3       8       6   mar  fri  91.7  33.3   77.5  9.0   8.3        97   4.0   \n",
       "4       8       6   mar  sun  89.3  51.3  102.2  9.6  11.4        99   1.8   \n",
       "\n",
       "   rain  area  \n",
       "0   0.0   0.0  \n",
       "1   0.0   0.0  \n",
       "2   0.0   0.0  \n",
       "3   0.2   0.0  \n",
       "4   0.0   0.0  "
      ],
      "text/html": "<div>\n<style scoped>\n    .dataframe tbody tr th:only-of-type {\n        vertical-align: middle;\n    }\n\n    .dataframe tbody tr th {\n        vertical-align: top;\n    }\n\n    .dataframe thead th {\n        text-align: right;\n    }\n</style>\n<table border=\"1\" class=\"dataframe\">\n  <thead>\n    <tr style=\"text-align: right;\">\n      <th></th>\n      <th>x-axis</th>\n      <th>y-axis</th>\n      <th>month</th>\n      <th>day</th>\n      <th>FFMC</th>\n      <th>DMC</th>\n      <th>DC</th>\n      <th>ISI</th>\n      <th>temp</th>\n      <th>humidity</th>\n      <th>wind</th>\n      <th>rain</th>\n      <th>area</th>\n    </tr>\n  </thead>\n  <tbody>\n    <tr>\n      <th>0</th>\n      <td>7</td>\n      <td>5</td>\n      <td>mar</td>\n      <td>fri</td>\n      <td>86.2</td>\n      <td>26.2</td>\n      <td>94.3</td>\n      <td>5.1</td>\n      <td>8.2</td>\n      <td>51</td>\n      <td>6.7</td>\n      <td>0.0</td>\n      <td>0.0</td>\n    </tr>\n    <tr>\n      <th>1</th>\n      <td>7</td>\n      <td>4</td>\n      <td>oct</td>\n      <td>tue</td>\n      <td>90.6</td>\n      <td>35.4</td>\n      <td>669.1</td>\n      <td>6.7</td>\n      <td>18.0</td>\n      <td>33</td>\n      <td>0.9</td>\n      <td>0.0</td>\n      <td>0.0</td>\n    </tr>\n    <tr>\n      <th>2</th>\n      <td>7</td>\n      <td>4</td>\n      <td>oct</td>\n      <td>sat</td>\n      <td>90.6</td>\n      <td>43.7</td>\n      <td>686.9</td>\n      <td>6.7</td>\n      <td>14.6</td>\n      <td>33</td>\n      <td>1.3</td>\n      <td>0.0</td>\n      <td>0.0</td>\n    </tr>\n    <tr>\n      <th>3</th>\n      <td>8</td>\n      <td>6</td>\n      <td>mar</td>\n      <td>fri</td>\n      <td>91.7</td>\n      <td>33.3</td>\n      <td>77.5</td>\n      <td>9.0</td>\n      <td>8.3</td>\n      <td>97</td>\n      <td>4.0</td>\n      <td>0.2</td>\n      <td>0.0</td>\n    </tr>\n    <tr>\n      <th>4</th>\n      <td>8</td>\n      <td>6</td>\n      <td>mar</td>\n      <td>sun</td>\n      <td>89.3</td>\n      <td>51.3</td>\n      <td>102.2</td>\n      <td>9.6</td>\n      <td>11.4</td>\n      <td>99</td>\n      <td>1.8</td>\n      <td>0.0</td>\n      <td>0.0</td>\n    </tr>\n  </tbody>\n</table>\n</div>"
     },
     "metadata": {},
     "execution_count": 2
    }
   ],
   "source": [
    "path = 'forestfires.csv'\n",
    "names = ['x-axis', 'y-axis', 'month', 'day', 'FFMC', 'DMC', 'DC', 'ISI', 'temp', 'humidity', 'wind', 'rain', 'area']\n",
    "dataset = pd.read_csv(path, names=names, skiprows=[0])\n",
    "dataset.head()\n"
   ]
  },
  {
   "source": [
    "## Changing the names of the months & days to their numeric values"
   ],
   "cell_type": "markdown",
   "metadata": {}
  },
  {
   "cell_type": "code",
   "execution_count": 3,
   "metadata": {},
   "outputs": [
    {
     "output_type": "execute_result",
     "data": {
      "text/plain": [
       "   x-axis  y-axis  month  day  FFMC   DMC     DC  ISI  temp  humidity  wind  \\\n",
       "0       7       5      3    5  86.2  26.2   94.3  5.1   8.2        51   6.7   \n",
       "1       7       4     10    2  90.6  35.4  669.1  6.7  18.0        33   0.9   \n",
       "2       7       4     10    6  90.6  43.7  686.9  6.7  14.6        33   1.3   \n",
       "3       8       6      3    5  91.7  33.3   77.5  9.0   8.3        97   4.0   \n",
       "4       8       6      3    7  89.3  51.3  102.2  9.6  11.4        99   1.8   \n",
       "\n",
       "   rain  area  \n",
       "0   0.0   0.0  \n",
       "1   0.0   0.0  \n",
       "2   0.0   0.0  \n",
       "3   0.2   0.0  \n",
       "4   0.0   0.0  "
      ],
      "text/html": "<div>\n<style scoped>\n    .dataframe tbody tr th:only-of-type {\n        vertical-align: middle;\n    }\n\n    .dataframe tbody tr th {\n        vertical-align: top;\n    }\n\n    .dataframe thead th {\n        text-align: right;\n    }\n</style>\n<table border=\"1\" class=\"dataframe\">\n  <thead>\n    <tr style=\"text-align: right;\">\n      <th></th>\n      <th>x-axis</th>\n      <th>y-axis</th>\n      <th>month</th>\n      <th>day</th>\n      <th>FFMC</th>\n      <th>DMC</th>\n      <th>DC</th>\n      <th>ISI</th>\n      <th>temp</th>\n      <th>humidity</th>\n      <th>wind</th>\n      <th>rain</th>\n      <th>area</th>\n    </tr>\n  </thead>\n  <tbody>\n    <tr>\n      <th>0</th>\n      <td>7</td>\n      <td>5</td>\n      <td>3</td>\n      <td>5</td>\n      <td>86.2</td>\n      <td>26.2</td>\n      <td>94.3</td>\n      <td>5.1</td>\n      <td>8.2</td>\n      <td>51</td>\n      <td>6.7</td>\n      <td>0.0</td>\n      <td>0.0</td>\n    </tr>\n    <tr>\n      <th>1</th>\n      <td>7</td>\n      <td>4</td>\n      <td>10</td>\n      <td>2</td>\n      <td>90.6</td>\n      <td>35.4</td>\n      <td>669.1</td>\n      <td>6.7</td>\n      <td>18.0</td>\n      <td>33</td>\n      <td>0.9</td>\n      <td>0.0</td>\n      <td>0.0</td>\n    </tr>\n    <tr>\n      <th>2</th>\n      <td>7</td>\n      <td>4</td>\n      <td>10</td>\n      <td>6</td>\n      <td>90.6</td>\n      <td>43.7</td>\n      <td>686.9</td>\n      <td>6.7</td>\n      <td>14.6</td>\n      <td>33</td>\n      <td>1.3</td>\n      <td>0.0</td>\n      <td>0.0</td>\n    </tr>\n    <tr>\n      <th>3</th>\n      <td>8</td>\n      <td>6</td>\n      <td>3</td>\n      <td>5</td>\n      <td>91.7</td>\n      <td>33.3</td>\n      <td>77.5</td>\n      <td>9.0</td>\n      <td>8.3</td>\n      <td>97</td>\n      <td>4.0</td>\n      <td>0.2</td>\n      <td>0.0</td>\n    </tr>\n    <tr>\n      <th>4</th>\n      <td>8</td>\n      <td>6</td>\n      <td>3</td>\n      <td>7</td>\n      <td>89.3</td>\n      <td>51.3</td>\n      <td>102.2</td>\n      <td>9.6</td>\n      <td>11.4</td>\n      <td>99</td>\n      <td>1.8</td>\n      <td>0.0</td>\n      <td>0.0</td>\n    </tr>\n  </tbody>\n</table>\n</div>"
     },
     "metadata": {},
     "execution_count": 3
    }
   ],
   "source": [
    "months = {'jan' : 1, 'feb' : 2, 'mar' : 3, 'apr' : 4, 'may' : 5, 'jun' : 6, 'jul' : 7, 'aug' : 8, 'sep' : 9, 'oct' : 10, \n",
    "           'nov' : 11, 'dec' : 12}\n",
    "days = {'mon' : 1, 'tue' : 2, 'wed' : 3, 'thu' : 4, 'fri' : 5, 'sat' : 6, 'sun' : 7}\n",
    "dataset['month'] = dataset.month.astype(object)\n",
    "dataset['month'] = dataset['month'].replace(months)\n",
    "dataset['day'] = dataset.day.astype(object)\n",
    "dataset['day'] = dataset['day'].replace(days)\n",
    "dataset.head()\n"
   ]
  },
  {
   "source": [
    "## Preprocessing\n",
    "x = attributes, y = labels"
   ],
   "cell_type": "markdown",
   "metadata": {}
  },
  {
   "cell_type": "code",
   "execution_count": 4,
   "metadata": {},
   "outputs": [],
   "source": [
    "cols = list(dataset.columns.values)\n",
    "cols.pop(cols.index('humidity'))\n",
    "dataset = dataset[cols+['humidity']] # moving humidity column to the end for easier slicling\n",
    "x = dataset.iloc[:, :12].values\n",
    "y = dataset.iloc[:, -1].values\n"
   ]
  },
  {
   "source": [
    "## Dividing a Dataset into Training and Validation Samples"
   ],
   "cell_type": "markdown",
   "metadata": {}
  },
  {
   "cell_type": "code",
   "execution_count": 5,
   "metadata": {},
   "outputs": [],
   "source": [
    "from sklearn.model_selection import train_test_split\n",
    "x_train, x_test, y_train, y_test = train_test_split(x, y, test_size = 0.20, random_state = 82)"
   ]
  },
  {
   "source": [
    "## Feature scaling"
   ],
   "cell_type": "markdown",
   "metadata": {}
  },
  {
   "cell_type": "code",
   "execution_count": 6,
   "metadata": {},
   "outputs": [],
   "source": [
    "from sklearn.preprocessing import StandardScaler\n",
    "sc = StandardScaler()\n",
    "x_train = sc.fit_transform(x_train)\n",
    "x_test = sc.transform(x_test)"
   ]
  },
  {
   "source": [
    "## Naive Bayes classifier"
   ],
   "cell_type": "markdown",
   "metadata": {}
  },
  {
   "cell_type": "code",
   "execution_count": 7,
   "metadata": {},
   "outputs": [
    {
     "output_type": "execute_result",
     "data": {
      "text/plain": [
       "GaussianNB()"
      ]
     },
     "metadata": {},
     "execution_count": 7
    }
   ],
   "source": [
    "from sklearn.naive_bayes import GaussianNB\n",
    "nvclassifier = GaussianNB()\n",
    "nvclassifier.fit(x_train, y_train)"
   ]
  },
  {
   "source": [
    "## Prediction"
   ],
   "cell_type": "markdown",
   "metadata": {}
  },
  {
   "cell_type": "code",
   "execution_count": 8,
   "metadata": {},
   "outputs": [
    {
     "output_type": "stream",
     "name": "stdout",
     "text": [
      "[82 43 55 46 19 52 34 66 71 61 22 28 82 79 53 51 52 74 41 38 70 26 51 47\n 41 52 28 38 19 56 74 21 41 38 39 26 82 30 21 43 47 74 38 38 47 51 39 90\n 21 48 47 58 64 38 36 38 25 32 58 34 48 58 53 45 48 41 19 72 48 52 22 51\n 38 51 48 77 52 48 48 48 24 66 65 48 38 55 21 28 56 51 51 39 34 52 74 32\n 48 43 51 45 47 38 48 64]\n"
     ]
    }
   ],
   "source": [
    "y_pred = nvclassifier.predict(x_test)\n",
    "print(y_pred)\n"
   ]
  },
  {
   "cell_type": "code",
   "execution_count": 9,
   "metadata": {},
   "outputs": [
    {
     "output_type": "execute_result",
     "data": {
      "text/plain": [
       "array([[64, 82],\n",
       "       [44, 43],\n",
       "       [35, 55],\n",
       "       [46, 46],\n",
       "       [56, 19]], dtype=int64)"
      ]
     },
     "metadata": {},
     "execution_count": 9
    }
   ],
   "source": [
    "y_compare = np.vstack((y_test,y_pred)).T\n",
    "y_compare[:5,:]"
   ]
  },
  {
   "source": [
    "## Algorithm Evaluation"
   ],
   "cell_type": "markdown",
   "metadata": {}
  },
  {
   "cell_type": "code",
   "execution_count": 10,
   "metadata": {},
   "outputs": [
    {
     "output_type": "stream",
     "name": "stdout",
     "text": [
      "[[0 0 0 ... 0 0 0]\n [0 1 0 ... 0 0 0]\n [0 0 1 ... 0 0 0]\n ...\n [0 0 0 ... 0 0 0]\n [0 0 0 ... 0 0 0]\n [0 0 0 ... 1 0 0]]\n"
     ]
    }
   ],
   "source": [
    "from sklearn.metrics import confusion_matrix\n",
    "cm = confusion_matrix(y_test, y_pred)\n",
    "print(cm)"
   ]
  },
  {
   "source": [
    "## Matching the recognition accuracy"
   ],
   "cell_type": "markdown",
   "metadata": {}
  },
  {
   "cell_type": "code",
   "execution_count": 12,
   "metadata": {},
   "outputs": [
    {
     "output_type": "stream",
     "name": "stdout",
     "text": [
      "Correct predictions: 10\nFalse predictions 94\n\nAccuracy of the Naive Bayes Clasification is: 0.09615384615384616\n"
     ]
    }
   ],
   "source": [
    "a = cm.shape\n",
    "corr_pred = 0\n",
    "false_pred = 0\n",
    "\n",
    "for row in range(a[0]):\n",
    "    for col in range(a[1]):\n",
    "        if row == col:\n",
    "            corr_pred +=cm[row, col]\n",
    "        else:\n",
    "            false_pred += cm[row, col]\n",
    "print(f'Correct predictions: {corr_pred}')\n",
    "print(f'False predictions {false_pred}')\n",
    "print (f'\\nAccuracy of the Naive Bayes Clasification is: {corr_pred/(cm.sum())}')"
   ]
  },
  {
   "cell_type": "code",
   "execution_count": null,
   "metadata": {},
   "outputs": [],
   "source": []
  },
  {
   "cell_type": "code",
   "execution_count": null,
   "metadata": {},
   "outputs": [],
   "source": []
  }
 ]
}