{
 "metadata": {
  "language_info": {
   "codemirror_mode": {
    "name": "ipython",
    "version": 3
   },
   "file_extension": ".py",
   "mimetype": "text/x-python",
   "name": "python",
   "nbconvert_exporter": "python",
   "pygments_lexer": "ipython3",
   "version": "3.7.3-final"
  },
  "orig_nbformat": 2,
  "kernelspec": {
   "name": "python3",
   "display_name": "Python 3"
  }
 },
 "nbformat": 4,
 "nbformat_minor": 2,
 "cells": [
  {
   "cell_type": "code",
   "execution_count": 1,
   "metadata": {},
   "outputs": [],
   "source": [
    "import numpy as np \n",
    "import pandas as pd "
   ]
  },
  {
   "source": [
    "1. Stworz 1D array liczb 0 do 9"
   ],
   "cell_type": "markdown",
   "metadata": {}
  },
  {
   "cell_type": "code",
   "execution_count": 41,
   "metadata": {},
   "outputs": [
    {
     "output_type": "execute_result",
     "data": {
      "text/plain": [
       "array([0, 1, 2, 3, 4, 5, 6, 7, 8, 9])"
      ]
     },
     "metadata": {},
     "execution_count": 41
    }
   ],
   "source": [
    "np.arange(0,10)"
   ]
  },
  {
   "source": [
    "2. Stwórz 3x3 numpy array wartości True"
   ],
   "cell_type": "markdown",
   "metadata": {}
  },
  {
   "cell_type": "code",
   "execution_count": 40,
   "metadata": {},
   "outputs": [
    {
     "output_type": "execute_result",
     "data": {
      "text/plain": [
       "array([[ True,  True,  True],\n",
       "       [ True,  True,  True],\n",
       "       [ True,  True,  True]])"
      ]
     },
     "metadata": {},
     "execution_count": 40
    }
   ],
   "source": [
    "np.ones((3,3), dtype=bool)"
   ]
  },
  {
   "source": [
    "3. Wyciągnij wszystkie nieparzyste wartości z wektora arr"
   ],
   "cell_type": "markdown",
   "metadata": {}
  },
  {
   "cell_type": "code",
   "execution_count": 3,
   "metadata": {},
   "outputs": [
    {
     "output_type": "execute_result",
     "data": {
      "text/plain": [
       "array([0, 2, 4, 6, 8])"
      ]
     },
     "metadata": {},
     "execution_count": 3
    }
   ],
   "source": [
    "arr = np.array([0, 1, 2, 3, 4, 5, 6, 7, 8, 9])\n",
    "mask = np.ones(len(arr), dtype=bool)\n",
    "mask[arr[arr%2 == 1]] = False\n",
    "result = arr[mask]\n",
    "result"
   ]
  },
  {
   "source": [
    "4. Zastąp wszystkie wartości nieparzyste wektora arr warością -1"
   ],
   "cell_type": "markdown",
   "metadata": {}
  },
  {
   "cell_type": "code",
   "execution_count": null,
   "metadata": {},
   "outputs": [],
   "source": [
    "arr = np.array([0, 1, 2, 3, 4, 5, 6, 7, 8, 9])\n",
    "arr[arr%2 == 1] = -1"
   ]
  },
  {
   "source": [
    "5. Przekształć wektor 1D na 2D zawierający 2 wiersze"
   ],
   "cell_type": "markdown",
   "metadata": {}
  },
  {
   "cell_type": "code",
   "execution_count": null,
   "metadata": {},
   "outputs": [],
   "source": [
    "arr = np.arange(10).reshape(2, 5)"
   ]
  },
  {
   "source": [
    "6. Połącz wektory a i b wertykalnie"
   ],
   "cell_type": "markdown",
   "metadata": {}
  },
  {
   "cell_type": "code",
   "execution_count": 39,
   "metadata": {},
   "outputs": [
    {
     "output_type": "execute_result",
     "data": {
      "text/plain": [
       "array([[0, 1, 2, 3, 4],\n",
       "       [5, 6, 7, 8, 9],\n",
       "       [1, 1, 1, 1, 1],\n",
       "       [1, 1, 1, 1, 1]])"
      ]
     },
     "metadata": {},
     "execution_count": 39
    }
   ],
   "source": [
    "a = np.arange(10).reshape(2,-1)\n",
    "b = np.repeat(1, 10).reshape(2,-1)\n",
    "np.concatenate((a, b), axis=0)"
   ]
  },
  {
   "source": [
    "7. Połącz wektory a i b horyzontalnie"
   ],
   "cell_type": "markdown",
   "metadata": {}
  },
  {
   "cell_type": "code",
   "execution_count": 38,
   "metadata": {},
   "outputs": [
    {
     "output_type": "execute_result",
     "data": {
      "text/plain": [
       "array([[0, 1, 2, 3, 4, 1, 1, 1, 1, 1],\n",
       "       [5, 6, 7, 8, 9, 1, 1, 1, 1, 1]])"
      ]
     },
     "metadata": {},
     "execution_count": 38
    }
   ],
   "source": [
    "a = np.arange(10).reshape(2,-1)\n",
    "b = np.repeat(1, 10).reshape(2,-1)\n",
    "np.concatenate((a, b), axis=1)"
   ]
  },
  {
   "source": [
    "8. Usuń z wektora a wszystkie elementy obecne w wektorze b"
   ],
   "cell_type": "markdown",
   "metadata": {}
  },
  {
   "cell_type": "code",
   "execution_count": 37,
   "metadata": {},
   "outputs": [
    {
     "output_type": "execute_result",
     "data": {
      "text/plain": [
       "array([1, 2, 3, 4])"
      ]
     },
     "metadata": {},
     "execution_count": 37
    }
   ],
   "source": [
    "a = np.array([1,2,3,4,5])\n",
    "b = np.array([5,6,7,8,9])\n",
    "np.setdiff1d(a, b)"
   ]
  },
  {
   "source": [
    "10. Uzyskaj wszystkie elementy wektora a pomiędzy wartościami 5 i 10"
   ],
   "cell_type": "markdown",
   "metadata": {}
  },
  {
   "cell_type": "code",
   "execution_count": 36,
   "metadata": {},
   "outputs": [
    {
     "output_type": "execute_result",
     "data": {
      "text/plain": [
       "array([6, 9])"
      ]
     },
     "metadata": {},
     "execution_count": 36
    }
   ],
   "source": [
    "a = np.array([2, 6, 1, 9, 10, 3, 27])\n",
    "a[(a > 5) & (a < 10)]"
   ]
  },
  {
   "source": [
    "11. Zamień kolumny 1 and 2 w array arr"
   ],
   "cell_type": "markdown",
   "metadata": {}
  },
  {
   "cell_type": "code",
   "execution_count": 18,
   "metadata": {},
   "outputs": [
    {
     "output_type": "execute_result",
     "data": {
      "text/plain": [
       "array([[0, 2, 1],\n",
       "       [3, 5, 4],\n",
       "       [6, 8, 7]])"
      ]
     },
     "metadata": {},
     "execution_count": 18
    }
   ],
   "source": [
    "arr = np.arange(9).reshape(3,3)\n",
    "arr[:,[1, 2]] = arr[:,[2, 1]]\n",
    "arr"
   ]
  },
  {
   "source": [
    "12. Zamień wiersze 1 and 2 w array arr"
   ],
   "cell_type": "markdown",
   "metadata": {}
  },
  {
   "cell_type": "code",
   "execution_count": 20,
   "metadata": {},
   "outputs": [
    {
     "output_type": "execute_result",
     "data": {
      "text/plain": [
       "array([[0, 1, 2],\n",
       "       [6, 7, 8],\n",
       "       [3, 4, 5]])"
      ]
     },
     "metadata": {},
     "execution_count": 20
    }
   ],
   "source": [
    "arr = np.arange(9).reshape(3,3)\n",
    "arr[[1,2],:] = arr[[2,1],:]\n",
    "arr"
   ]
  },
  {
   "source": [
    "13. Odwróć wiersze 2D array arr"
   ],
   "cell_type": "markdown",
   "metadata": {}
  },
  {
   "cell_type": "code",
   "execution_count": 3,
   "metadata": {},
   "outputs": [],
   "source": [
    "arr = np.arange(9).reshape(3,3)\n",
    "# np.fliplr()arr"
   ]
  },
  {
   "source": [
    "14. Odwróć kolumny 2D array arr"
   ],
   "cell_type": "markdown",
   "metadata": {}
  },
  {
   "cell_type": "code",
   "execution_count": 6,
   "metadata": {},
   "outputs": [
    {
     "output_type": "execute_result",
     "data": {
      "text/plain": [
       "array([[6, 7, 8],\n",
       "       [3, 4, 5],\n",
       "       [0, 1, 2]])"
      ]
     },
     "metadata": {},
     "execution_count": 6
    }
   ],
   "source": [
    "arr = np.arange(9).reshape(3,3)\n",
    "np.flipud(arr)"
   ]
  },
  {
   "source": [
    "15. Znajdż wartość średnią, medianę i standardowe odchylenie słowa iris"
   ],
   "cell_type": "markdown",
   "metadata": {}
  },
  {
   "cell_type": "code",
   "execution_count": 5,
   "metadata": {},
   "outputs": [
    {
     "output_type": "execute_result",
     "data": {
      "text/plain": [
       "5.8"
      ]
     },
     "metadata": {},
     "execution_count": 5
    }
   ],
   "source": [
    "url = 'https://archive.ics.uci.edu/ml/machine-learning-databases/iris/iris.data'\n",
    "iris = np.genfromtxt(url, delimiter=',', dtype='object')\n",
    "sepallength = np.genfromtxt(url, delimiter=',', dtype='float', usecols=[0])\n",
    "np.mean(sepallength)\n",
    "np.std(sepallength)\n",
    "np.median(sepallength)"
   ]
  },
  {
   "source": [
    "16. Stwórz znormalizowną długość słowa dokładnie w zakresie od 0 do 1"
   ],
   "cell_type": "markdown",
   "metadata": {}
  },
  {
   "cell_type": "code",
   "execution_count": 8,
   "metadata": {},
   "outputs": [],
   "source": [
    "url = 'https://archive.ics.uci.edu/ml/machine-learning-databases/iris/iris.data'\n",
    "sepallength = np.genfromtxt(url, delimiter=',', dtype='float', usecols=[0])\n",
    "norm = (sepallength - np.min(sepallength)) / np.ptp(sepallength)\n",
    "norm"
   ]
  },
  {
   "source": [
    "17. Oblicz min/max dla każdego wiersza danego arraya"
   ],
   "cell_type": "markdown",
   "metadata": {}
  },
  {
   "cell_type": "code",
   "execution_count": 10,
   "metadata": {},
   "outputs": [
    {
     "output_type": "execute_result",
     "data": {
      "text/plain": [
       "array([5, 2, 2, 1, 2])"
      ]
     },
     "metadata": {},
     "execution_count": 10
    }
   ],
   "source": [
    "a = np.random.randint(1,10, [5,3])\n",
    "np.min(a, axis=1)\n",
    "np.max(a, axis=1)"
   ]
  },
  {
   "source": [
    "18. Znajdź duplikaty w przedstawionym numpy arryay i oznacz je jako True. Pierwsze pojawienie\n",
    "powinno byc jako False"
   ],
   "cell_type": "markdown",
   "metadata": {}
  },
  {
   "cell_type": "code",
   "execution_count": 10,
   "metadata": {},
   "outputs": [
    {
     "output_type": "stream",
     "name": "stdout",
     "text": [
      "Array: [0 0 2 2 3 0 3 0 4 4]\nDuplicates in indicies: [0 2 4 8]\n"
     ]
    }
   ],
   "source": [
    "a = np.random.randint(0, 5, 10)\n",
    "u, indicies = np.unique(a, return_index=True)\n",
    "print(f'Array: {a}')\n",
    "print(f'Duplicates in indicies: {indicies}')"
   ]
  },
  {
   "source": [
    "19. Pozbądz się wszystkich nan wartości z wektora 1D"
   ],
   "cell_type": "markdown",
   "metadata": {}
  },
  {
   "cell_type": "code",
   "execution_count": null,
   "metadata": {},
   "outputs": [],
   "source": []
  },
  {
   "cell_type": "code",
   "execution_count": 3,
   "metadata": {},
   "outputs": [
    {
     "output_type": "execute_result",
     "data": {
      "text/plain": [
       "array([1., 2., 3., 5., 6., 7.])"
      ]
     },
     "metadata": {},
     "execution_count": 3
    }
   ],
   "source": [
    "a = np.array([1,2,3,np.nan,5,6,7,np.nan])\n",
    "np.isnan(a)\n",
    "a[~np.isnan(a)]"
   ]
  },
  {
   "source": [
    "20. Oblicz odległość euklidesową pomiędzy wektorem a i b"
   ],
   "cell_type": "markdown",
   "metadata": {}
  },
  {
   "cell_type": "code",
   "execution_count": 32,
   "metadata": {},
   "outputs": [
    {
     "output_type": "execute_result",
     "data": {
      "text/plain": [
       "6.708203932499369"
      ]
     },
     "metadata": {},
     "execution_count": 32
    }
   ],
   "source": [
    "a = np.array([1,2,3,4,5])\n",
    "b = np.array([4,5,6,7,8])\n",
    "np.linalg.norm(a-b)"
   ]
  },
  {
   "source": [
    "21. Odejmi 1d arrat od 2d array w taki sposób zę każdy element wektora 1d jest odejmowany od\n",
    "opdowiadającego elementu wiersza wektora 2d"
   ],
   "cell_type": "markdown",
   "metadata": {}
  },
  {
   "cell_type": "code",
   "execution_count": 13,
   "metadata": {},
   "outputs": [
    {
     "output_type": "execute_result",
     "data": {
      "text/plain": [
       "array([[2, 2, 2],\n",
       "       [3, 3, 3],\n",
       "       [4, 4, 4]])"
      ]
     },
     "metadata": {},
     "execution_count": 13
    }
   ],
   "source": [
    "a = np.array([[3,3,3],[4,4,4],[5,5,5]])\n",
    "b = np.array([1,1,1])\n",
    "a - b"
   ]
  },
  {
   "source": [
    "22. Wymnóż dwie dane macierze (dot)"
   ],
   "cell_type": "markdown",
   "metadata": {}
  },
  {
   "cell_type": "code",
   "execution_count": 31,
   "metadata": {},
   "outputs": [
    {
     "output_type": "execute_result",
     "data": {
      "text/plain": [
       "array([19, 31,  4])"
      ]
     },
     "metadata": {},
     "execution_count": 31
    }
   ],
   "source": [
    "x = [[1, 0], [0, 1]]\n",
    "y = [[1, 2], [3, 4]]\n",
    "np.dot(a, b)"
   ]
  },
  {
   "source": [
    "23. Oblicz produkt zewnętrzny (outer product) macierzy x i y"
   ],
   "cell_type": "markdown",
   "metadata": {}
  },
  {
   "cell_type": "code",
   "execution_count": 29,
   "metadata": {},
   "outputs": [
    {
     "output_type": "execute_result",
     "data": {
      "text/plain": [
       "array([[ 8, 10, 12],\n",
       "       [ 4,  5,  6],\n",
       "       [ 4,  5,  6],\n",
       "       [ 4,  5,  6],\n",
       "       [12, 15, 18],\n",
       "       [ 8, 10, 12],\n",
       "       [ 4,  5,  6],\n",
       "       [ 0,  0,  0],\n",
       "       [ 0,  0,  0]])"
      ]
     },
     "metadata": {},
     "execution_count": 29
    }
   ],
   "source": [
    "x = [[1, 0], [0, 1]]\n",
    "y = [[1, 2], [3, 4]]\n",
    "np.outer(a, b)"
   ]
  },
  {
   "source": [
    "24. Oblicz produkt krzyżowy dwóch macierzy x i y jak i również y i x (cross product)"
   ],
   "cell_type": "markdown",
   "metadata": {}
  },
  {
   "cell_type": "code",
   "execution_count": 30,
   "metadata": {},
   "outputs": [
    {
     "output_type": "execute_result",
     "data": {
      "text/plain": [
       "array([-2,  3])"
      ]
     },
     "metadata": {},
     "execution_count": 30
    }
   ],
   "source": [
    "x = [[1, 0], [0, 1]]\n",
    "y = [[1, 2], [3, 4]]\n",
    "np.cross(x, y)\n",
    "np.cross(y,x)"
   ]
  },
  {
   "cell_type": "code",
   "execution_count": null,
   "metadata": {},
   "outputs": [],
   "source": []
  },
  {
   "source": [
    "25. Oblicz wyznacznik wektora 2D"
   ],
   "cell_type": "markdown",
   "metadata": {}
  },
  {
   "cell_type": "code",
   "execution_count": 33,
   "metadata": {},
   "outputs": [
    {
     "output_type": "execute_result",
     "data": {
      "text/plain": [
       "6.0"
      ]
     },
     "metadata": {},
     "execution_count": 33
    }
   ],
   "source": [
    "a = np.array([[1,2,3],[4,5,6],[0,1,0]])\n",
    "np.linalg.det(a)"
   ]
  },
  {
   "source": [
    "26. Oblicz macierz odwrotną"
   ],
   "cell_type": "markdown",
   "metadata": {}
  },
  {
   "cell_type": "code",
   "execution_count": 34,
   "metadata": {},
   "outputs": [
    {
     "output_type": "execute_result",
     "data": {
      "text/plain": [
       "array([[-1.        ,  0.5       , -0.5       ],\n",
       "       [ 0.        ,  0.        ,  1.        ],\n",
       "       [ 0.66666667, -0.16666667, -0.5       ]])"
      ]
     },
     "metadata": {},
     "execution_count": 34
    }
   ],
   "source": [
    "a = np.array([[1,2,3],[4,5,6],[0,1,0]])\n",
    "np.linalg.inv(a)"
   ]
  },
  {
   "source": [
    "27. Oblicz macierzowo równania\n",
    "2a + b + c = 4\n",
    "a + 3b + 2c = 5\n",
    "a = 6"
   ],
   "cell_type": "markdown",
   "metadata": {}
  },
  {
   "cell_type": "code",
   "execution_count": 35,
   "metadata": {},
   "outputs": [
    {
     "output_type": "execute_result",
     "data": {
      "text/plain": [
       "array([  6.,  15., -23.])"
      ]
     },
     "metadata": {},
     "execution_count": 35
    }
   ],
   "source": [
    "a = np.array([[2,1,1], [1,3,2], [1,0,0]])\n",
    "b = np.array([4,5,6])\n",
    "np.linalg.solve(a,b)"
   ]
  },
  {
   "source": [
    "28. Połącz serie ser1 i ser2 tak żeby stworzyć dataframe"
   ],
   "cell_type": "markdown",
   "metadata": {}
  },
  {
   "cell_type": "code",
   "execution_count": 22,
   "metadata": {},
   "outputs": [],
   "source": [
    "ser1 = pd.Series(list('abcedfghijklmnopqrstuvwxyz'), name=\"letters\")\n",
    "ser2 = pd.Series(np.arange(26), name=\"numbers\")\n",
    "s = pd.DataFrame(ser1)\n",
    "df = s.join(ser2)\n",
    "df"
   ]
  },
  {
   "source": [
    "29. Z serii ser1 usuń elementy występujące w serii 2 ser2"
   ],
   "cell_type": "markdown",
   "metadata": {}
  },
  {
   "cell_type": "code",
   "execution_count": 5,
   "metadata": {},
   "outputs": [
    {
     "output_type": "execute_result",
     "data": {
      "text/plain": [
       "0    1\n",
       "dtype: int64"
      ]
     },
     "metadata": {},
     "execution_count": 5
    }
   ],
   "source": [
    "ser1 = pd.Series([1, 2, 3, 4, 5])\n",
    "ser2 = pd.Series([4, 5, 6, 7, 8])\n",
    "arr = ser1.drop([i for i in ser1 if i in ser2])\n",
    "arr"
   ]
  },
  {
   "source": [
    "33. Zaimportuj plik csv do dataframe z linku uwzględnijąc tylko kolumny crim i medv (https://raw.githubusercontent.com/selva86/datasets/master/BostonHousing.csv)"
   ],
   "cell_type": "markdown",
   "metadata": {}
  },
  {
   "cell_type": "code",
   "execution_count": 5,
   "metadata": {},
   "outputs": [],
   "source": [
    "boston = pd.read_csv('https://raw.githubusercontent.com/selva86/datasets/master/BostonHousing.csv', header=0, index_col=[\"crim\", \"medv\"], usecols=[\"crim\", \"medv\"])\n",
    "boston"
   ]
  },
  {
   "cell_type": "code",
   "execution_count": null,
   "metadata": {},
   "outputs": [],
   "source": []
  }
 ]
}